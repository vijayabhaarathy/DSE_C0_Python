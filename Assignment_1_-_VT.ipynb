{
 "cells": [
  {
   "cell_type": "markdown",
   "metadata": {},
   "source": [
    "<b> 1. Given a number, find the sum of its digits. Take the number as an input from the user. <b>\n",
    " "
   ]
  },
  {
   "cell_type": "code",
   "execution_count": 23,
   "metadata": {},
   "outputs": [
    {
     "name": "stdout",
     "output_type": "stream",
     "text": [
      "Enter a number: 123\n",
      "6.0\n"
     ]
    }
   ],
   "source": [
    "n = int(input(\"Enter a number: \"))\n",
    "\n",
    "sum=0\n",
    "while n>0:\n",
    "    rem=n%10\n",
    "    sum=sum+rem\n",
    "    n=(n-rem)/10\n",
    "    \n",
    "print(sum)"
   ]
  },
  {
   "cell_type": "markdown",
   "metadata": {},
   "source": [
    "<b> 2. Given a number, check whether the given number is an\n",
    "Armstrong number or not. A positive integer is called an\n",
    "Armstrong number of order n if:\n",
    "abcd... = a^n + b^n + c^n + d^n + ...\n",
    "Example: 153 = 1x1x1 + 5x5x5 + 3x3x3\n",
    "153 is an Armstrong number of order 3.\n",
    "Inputs from the user will be number and order n. <b>"
   ]
  },
  {
   "cell_type": "code",
   "execution_count": 41,
   "metadata": {},
   "outputs": [],
   "source": [
    "def num_split(num):\n",
    "    sum=0\n",
    "    x=0\n",
    "    num1 = []\n",
    "    while num>0:\n",
    "        rem=num%10\n",
    "        num1.append(rem)\n",
    "        x=x+1\n",
    "        num=(num-rem)/10\n",
    "    return num1"
   ]
  },
  {
   "cell_type": "code",
   "execution_count": 66,
   "metadata": {},
   "outputs": [],
   "source": [
    "def check_arms(num,order):\n",
    "    num1=num_split(num)\n",
    "    sum=0\n",
    "    for item in num1:\n",
    "        temp=item**order\n",
    "        sum=sum+temp\n",
    "        \n",
    "    if sum==num:\n",
    "        return (f\"{num} is an Armstrong number\")\n",
    "    else:\n",
    "        return (f\"{num} is not an Armstrong number\")"
   ]
  },
  {
   "cell_type": "code",
   "execution_count": 70,
   "metadata": {},
   "outputs": [
    {
     "name": "stdout",
     "output_type": "stream",
     "text": [
      "Enter the  number: 153\n",
      "Enter the order: 3\n"
     ]
    },
    {
     "data": {
      "text/plain": [
       "'153 is an Armstrong number'"
      ]
     },
     "execution_count": 70,
     "metadata": {},
     "output_type": "execute_result"
    }
   ],
   "source": [
    "num = int(input(\"Enter the  number: \"))\n",
    "order = int(input(\"Enter the order: \"))\n",
    "check_arms(num,order)"
   ]
  },
  {
   "cell_type": "markdown",
   "metadata": {},
   "source": [
    "<b>3. Given a string, write a python function to check if it is\n",
    "palindrome or not. A string is said to be palindrome if the reverse\n",
    "of the string is the same as string. For example, “malayalam” is a\n",
    "palindrome, but “music” is not a palindrome.<b>"
   ]
  },
  {
   "cell_type": "code",
   "execution_count": 106,
   "metadata": {},
   "outputs": [],
   "source": [
    "def check_Palindrome(str):\n",
    "    x=len(str)\n",
    "    temp=True\n",
    "    if x%2==0:\n",
    "        temp= False\n",
    "    \n",
    "    fwd=0\n",
    "    end=x-1\n",
    "    \n",
    "    while fwd<x:\n",
    "        if str[fwd]!=str[end]:\n",
    "            temp= False\n",
    "        fwd=fwd+1\n",
    "        end=end-1\n",
    "    \n",
    "    return temp\n",
    "        "
   ]
  },
  {
   "cell_type": "code",
   "execution_count": 114,
   "metadata": {},
   "outputs": [
    {
     "name": "stdout",
     "output_type": "stream",
     "text": [
      "Enter a string: malayalam\n"
     ]
    },
    {
     "data": {
      "text/plain": [
       "True"
      ]
     },
     "execution_count": 114,
     "metadata": {},
     "output_type": "execute_result"
    }
   ],
   "source": [
    "str=input(\"Enter a string: \")\n",
    "check_Palindrome(str)"
   ]
  },
  {
   "cell_type": "markdown",
   "metadata": {},
   "source": [
    "<b>4. Given an array which may contain duplicates, print all elements and their frequencies.<b>"
   ]
  },
  {
   "cell_type": "code",
   "execution_count": 24,
   "metadata": {},
   "outputs": [],
   "source": [
    "num=[1,1,1,2,3,3,3,3,3,4,1,2,3,4,5]\n"
   ]
  },
  {
   "cell_type": "code",
   "execution_count": 25,
   "metadata": {},
   "outputs": [
    {
     "name": "stdout",
     "output_type": "stream",
     "text": [
      "{1: 4, 2: 2, 3: 6, 4: 2, 5: 1}\n"
     ]
    }
   ],
   "source": [
    "freq={}\n",
    "for item in num:\n",
    "    if item in freq:\n",
    "        freq[item]=freq[item]+1\n",
    "    else:\n",
    "        freq[item]=1\n",
    "        \n",
    "print(freq)"
   ]
  },
  {
   "cell_type": "markdown",
   "metadata": {},
   "source": [
    "<b>5. Given a number n, write a function to print all prime factors of n. For example, if the input number is 12, then output should be “2 2 3”.<b>"
   ]
  },
  {
   "cell_type": "code",
   "execution_count": 49,
   "metadata": {},
   "outputs": [],
   "source": [
    "import math\n",
    "def find_primefactors(num):\n",
    "    prime=[]\n",
    "    while num%2==0:\n",
    "        prime.append(2)\n",
    "        num=num/2\n",
    "    \n",
    "    for i in range(3,int(math.sqrt(num)+1)):\n",
    "        while num%i==0:\n",
    "            prime.append(i)\n",
    "            num=num/i\n",
    "    \n",
    "    if num>2:\n",
    "        prime.append(num)\n",
    "    \n",
    "    print(prime)"
   ]
  },
  {
   "cell_type": "code",
   "execution_count": 50,
   "metadata": {},
   "outputs": [
    {
     "name": "stdout",
     "output_type": "stream",
     "text": [
      "Enter a number: 12\n",
      "[2, 2, 3.0]\n"
     ]
    }
   ],
   "source": [
    "num=int(input(\"Enter a number: \"))\n",
    "find_primefactors(num)"
   ]
  },
  {
   "cell_type": "markdown",
   "metadata": {},
   "source": [
    "<b>6. Given two numbers n and r, find the value of nCr (binomial coefficient: nCr = (n!) / (r! * (n-r)!))<b>"
   ]
  },
  {
   "cell_type": "code",
   "execution_count": 71,
   "metadata": {},
   "outputs": [],
   "source": [
    "def calc(n,r):\n",
    "    return factorial(n)/(factorial(r) * (n-r))\n",
    "\n",
    "def factorial(x):\n",
    "    fact=1\n",
    "    while x>0:\n",
    "        fact=fact*x\n",
    "        x=x-1\n",
    "    return fact"
   ]
  },
  {
   "cell_type": "code",
   "execution_count": 73,
   "metadata": {},
   "outputs": [
    {
     "name": "stdout",
     "output_type": "stream",
     "text": [
      "Enter value of n:5\n",
      "Enter value of r:2\n"
     ]
    },
    {
     "data": {
      "text/plain": [
       "20.0"
      ]
     },
     "execution_count": 73,
     "metadata": {},
     "output_type": "execute_result"
    }
   ],
   "source": [
    "n=int(input(\"Enter value of n:\"))\n",
    "r=int(input(\"Enter value of r:\"))\n",
    "calc(n,r)\n"
   ]
  },
  {
   "cell_type": "markdown",
   "metadata": {},
   "source": [
    "<b>7. Searching: Given a sorted array arr[] of n elements, write a function to search a given element x in arr[]. Do it using linear and binary search techniques.<b>"
   ]
  },
  {
   "cell_type": "code",
   "execution_count": 60,
   "metadata": {},
   "outputs": [],
   "source": [
    "def linear_search(arr,x):\n",
    "    arr.sort()\n",
    "    print(\"Linear Search:\")\n",
    "    print(f\"Sorted Array: {arr}\")\n",
    "    temp=False\n",
    "    \n",
    "    for i in range(len(arr)):\n",
    "        if x==arr[i]:\n",
    "            print(f\"X={x} found in the array at index {i}\" )\n",
    "            temp=True\n",
    "            break\n",
    "    \n",
    "    if temp==False:\n",
    "        print(f\"X={x} not found in the array\")\n",
    "            \n",
    "    \n",
    "def binary_search(arr,x):\n",
    "    arr.sort()\n",
    "    print(\"Binary Search:\")\n",
    "    print(f\"Sorted Array: {arr}\")\n",
    "    temp=False\n",
    "    low=0\n",
    "    high=int(len(arr))\n",
    "    mid=int((low+high)/2)\n",
    "    \n",
    "    while high>mid:\n",
    "        if arr[mid]==x:\n",
    "            temp=True\n",
    "            index=mid\n",
    "            break\n",
    "        elif arr[mid] < x:\n",
    "            low=mid+1\n",
    "        elif arr[mid] > x:\n",
    "            high = mid-1\n",
    "        mid=int((low+high)/2)\n",
    "        \n",
    "    if temp==True:\n",
    "        print(f\"X={x} found in the array at index {index}\")\n",
    "    elif temp==False:\n",
    "        print(f\"X={x} not found in the array\")\n",
    "    \n",
    "        "
   ]
  },
  {
   "cell_type": "code",
   "execution_count": 61,
   "metadata": {},
   "outputs": [
    {
     "name": "stdout",
     "output_type": "stream",
     "text": [
      "Linear Search:\n",
      "Sorted Array: [0, 1, 2, 3, 4]\n",
      "X=10 not found in the array\n",
      "Binary Search:\n",
      "Sorted Array: [0, 1, 2, 3, 4]\n",
      "X=10 not found in the array\n"
     ]
    }
   ],
   "source": [
    "arr=[0,1,2,3,4]\n",
    "x=10\n",
    "linear_search(arr,x)\n",
    "binary_search(arr,x)"
   ]
  },
  {
   "cell_type": "markdown",
   "metadata": {},
   "source": [
    "<b>8. Input a text file (containing 1 or more paragraphs of English text) from the user, parse this file to display the frequency of\n",
    "occurrence of each word in this text file. Find the 3 most frequent words as well.<b>"
   ]
  },
  {
   "cell_type": "code",
   "execution_count": 250,
   "metadata": {},
   "outputs": [
    {
     "name": "stdout",
     "output_type": "stream",
     "text": [
      "Words & frequencies: {'Hello': 1, 'World': 4, 'Hi': 1, 'How': 2, 'are': 2, 'you': 2, 'Take': 1, 'care': 1, 'Bye': 1}\n",
      "Three most used words: ['World', 'How', 'are']\n"
     ]
    }
   ],
   "source": [
    "content=open(\"Assignment1_Q8.txt\").read().split()\n",
    "\n",
    "freq_words={}\n",
    "\n",
    "for item in content:\n",
    "    if item in freq_words:\n",
    "        freq_words[item]+=1\n",
    "    else:\n",
    "        freq_words[item]=1\n",
    "\n",
    "freq_sorted=sorted(freq_words, key=freq_words.get, reverse=True)\n",
    "\n",
    "print(f\"Words & frequencies: {freq_words}\")\n",
    "print(f\"Three most used words: {freq_sorted[:3]}\")\n",
    "\n"
   ]
  },
  {
   "cell_type": "code",
   "execution_count": null,
   "metadata": {},
   "outputs": [],
   "source": []
  },
  {
   "cell_type": "code",
   "execution_count": null,
   "metadata": {},
   "outputs": [],
   "source": []
  }
 ],
 "metadata": {
  "kernelspec": {
   "display_name": "Python 3",
   "language": "python",
   "name": "python3"
  },
  "language_info": {
   "codemirror_mode": {
    "name": "ipython",
    "version": 3
   },
   "file_extension": ".py",
   "mimetype": "text/x-python",
   "name": "python",
   "nbconvert_exporter": "python",
   "pygments_lexer": "ipython3",
   "version": "3.8.5"
  }
 },
 "nbformat": 4,
 "nbformat_minor": 4
}
